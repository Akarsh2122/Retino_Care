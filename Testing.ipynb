{
 "cells": [
  {
   "cell_type": "code",
   "execution_count": 6,
   "id": "e71b6bf1",
   "metadata": {},
   "outputs": [],
   "source": [
    "import numpy as np\n",
    "from tensorflow.keras.models import load_model\n",
    "from tensorflow.keras.preprocessing import image\n",
    "from efficientnet.tfkeras import EfficientNetB0"
   ]
  },
  {
   "cell_type": "code",
   "execution_count": 7,
   "id": "6a217fb0",
   "metadata": {},
   "outputs": [],
   "source": [
    "img_size = 256\n",
    "model = load_model('diabetic_eye_model.h5', compile=False)"
   ]
  },
  {
   "cell_type": "code",
   "execution_count": 8,
   "id": "1c09997e",
   "metadata": {},
   "outputs": [
    {
     "name": "stdout",
     "output_type": "stream",
     "text": [
      "1/1 [==============================] - 2s 2s/step\n"
     ]
    }
   ],
   "source": [
    "image_path = '1.jpg'\n",
    "img = image.load_img(image_path, target_size=(img_size, img_size))\n",
    "img = image.img_to_array(img)\n",
    "img = img / 255.0 \n",
    "\n",
    "img = np.expand_dims(img, axis=0)\n",
    "\n",
    "predictions = model.predict(img)\n",
    "\n",
    "predicted_class = np.argmax(predictions[0])"
   ]
  },
  {
   "cell_type": "code",
   "execution_count": 9,
   "id": "61250e9d",
   "metadata": {},
   "outputs": [],
   "source": [
    "DR = {0 : 'No DR', 1 : 'Mild DR', 2 : 'Moderate DR', 3 : 'Severe DR', 4 : 'Proliferative DR'}"
   ]
  },
  {
   "cell_type": "code",
   "execution_count": 10,
   "id": "e1f32058",
   "metadata": {},
   "outputs": [
    {
     "data": {
      "text/plain": [
       "'Moderate DR'"
      ]
     },
     "execution_count": 10,
     "metadata": {},
     "output_type": "execute_result"
    }
   ],
   "source": [
    "DR[predicted_class]"
   ]
  },
  {
   "cell_type": "code",
   "execution_count": null,
   "id": "b6a66087",
   "metadata": {},
   "outputs": [],
   "source": []
  }
 ],
 "metadata": {
  "kernelspec": {
   "display_name": "Python 3 (ipykernel)",
   "language": "python",
   "name": "python3"
  },
  "language_info": {
   "codemirror_mode": {
    "name": "ipython",
    "version": 3
   },
   "file_extension": ".py",
   "mimetype": "text/x-python",
   "name": "python",
   "nbconvert_exporter": "python",
   "pygments_lexer": "ipython3",
   "version": "3.10.9"
  }
 },
 "nbformat": 4,
 "nbformat_minor": 5
}
